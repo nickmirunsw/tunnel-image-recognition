{
 "cells": [
  {
   "cell_type": "code",
   "execution_count": 1,
   "id": "27b85c9b-34fa-4dd5-8946-03ea73b66d2e",
   "metadata": {},
   "outputs": [],
   "source": [
    "import pandas as pd"
   ]
  },
  {
   "cell_type": "code",
   "execution_count": 5,
   "id": "5bbba3c1-b51a-49d0-bc1f-66ad3d4c068e",
   "metadata": {},
   "outputs": [
    {
     "data": {
      "text/html": [
       "<div>\n",
       "<style scoped>\n",
       "    .dataframe tbody tr th:only-of-type {\n",
       "        vertical-align: middle;\n",
       "    }\n",
       "\n",
       "    .dataframe tbody tr th {\n",
       "        vertical-align: top;\n",
       "    }\n",
       "\n",
       "    .dataframe thead th {\n",
       "        text-align: right;\n",
       "    }\n",
       "</style>\n",
       "<table border=\"1\" class=\"dataframe\">\n",
       "  <thead>\n",
       "    <tr style=\"text-align: right;\">\n",
       "      <th></th>\n",
       "      <th>Image</th>\n",
       "      <th>Software</th>\n",
       "      <th>Output_Type</th>\n",
       "      <th>Num_Tunnels</th>\n",
       "      <th>Crown_Value</th>\n",
       "      <th>Sidewall_Value</th>\n",
       "      <th>Tunnel_Shape</th>\n",
       "    </tr>\n",
       "  </thead>\n",
       "  <tbody>\n",
       "    <tr>\n",
       "      <th>3</th>\n",
       "      <td>extracted-images\\02-150-520-PR-1695\\page_101_i...</td>\n",
       "      <td>FLAC2D</td>\n",
       "      <td>Vertical Displacement</td>\n",
       "      <td>2</td>\n",
       "      <td>9.0</td>\n",
       "      <td>3.0</td>\n",
       "      <td>Arch</td>\n",
       "    </tr>\n",
       "    <tr>\n",
       "      <th>0</th>\n",
       "      <td>extracted-images\\02-150-520-PR-1695\\page_100_i...</td>\n",
       "      <td>FLAC2D</td>\n",
       "      <td>Model</td>\n",
       "      <td>2</td>\n",
       "      <td>NaN</td>\n",
       "      <td>NaN</td>\n",
       "      <td>Arch</td>\n",
       "    </tr>\n",
       "    <tr>\n",
       "      <th>2</th>\n",
       "      <td>extracted-images\\02-150-520-PR-1695\\page_101_i...</td>\n",
       "      <td>FLAC2D</td>\n",
       "      <td>Shear</td>\n",
       "      <td>2</td>\n",
       "      <td>NaN</td>\n",
       "      <td>NaN</td>\n",
       "      <td>Arch</td>\n",
       "    </tr>\n",
       "    <tr>\n",
       "      <th>1</th>\n",
       "      <td>extracted-images\\02-150-520-PR-1695\\page_100_i...</td>\n",
       "      <td>FLAC2D</td>\n",
       "      <td>Shear</td>\n",
       "      <td>2</td>\n",
       "      <td>NaN</td>\n",
       "      <td>NaN</td>\n",
       "      <td>Arch</td>\n",
       "    </tr>\n",
       "    <tr>\n",
       "      <th>4</th>\n",
       "      <td>extracted-images\\02-150-520-PR-1695\\page_102_i...</td>\n",
       "      <td>FLAC2D</td>\n",
       "      <td>Horizontal Displacement</td>\n",
       "      <td>2</td>\n",
       "      <td>1.0</td>\n",
       "      <td>4.0</td>\n",
       "      <td>Arch</td>\n",
       "    </tr>\n",
       "  </tbody>\n",
       "</table>\n",
       "</div>"
      ],
      "text/plain": [
       "                                               Image Software  \\\n",
       "3  extracted-images\\02-150-520-PR-1695\\page_101_i...   FLAC2D   \n",
       "0  extracted-images\\02-150-520-PR-1695\\page_100_i...   FLAC2D   \n",
       "2  extracted-images\\02-150-520-PR-1695\\page_101_i...   FLAC2D   \n",
       "1  extracted-images\\02-150-520-PR-1695\\page_100_i...   FLAC2D   \n",
       "4  extracted-images\\02-150-520-PR-1695\\page_102_i...   FLAC2D   \n",
       "\n",
       "               Output_Type  Num_Tunnels  Crown_Value  Sidewall_Value  \\\n",
       "3    Vertical Displacement            2          9.0             3.0   \n",
       "0                    Model            2          NaN             NaN   \n",
       "2                    Shear            2          NaN             NaN   \n",
       "1                    Shear            2          NaN             NaN   \n",
       "4  Horizontal Displacement            2          1.0             4.0   \n",
       "\n",
       "  Tunnel_Shape  \n",
       "3         Arch  \n",
       "0         Arch  \n",
       "2         Arch  \n",
       "1         Arch  \n",
       "4         Arch  "
      ]
     },
     "execution_count": 5,
     "metadata": {},
     "output_type": "execute_result"
    }
   ],
   "source": [
    "df = pd.read_csv(\"manual_labels.csv\")\n",
    "df.sample(5)"
   ]
  },
  {
   "cell_type": "code",
   "execution_count": null,
   "id": "e73cc1cc-dedf-44b9-b1b4-6540d9ee7b96",
   "metadata": {},
   "outputs": [],
   "source": []
  }
 ],
 "metadata": {
  "kernelspec": {
   "display_name": "Python 3 (ipykernel)",
   "language": "python",
   "name": "python3"
  },
  "language_info": {
   "codemirror_mode": {
    "name": "ipython",
    "version": 3
   },
   "file_extension": ".py",
   "mimetype": "text/x-python",
   "name": "python",
   "nbconvert_exporter": "python",
   "pygments_lexer": "ipython3",
   "version": "3.10.0"
  }
 },
 "nbformat": 4,
 "nbformat_minor": 5
}
