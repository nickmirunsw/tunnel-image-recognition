{
 "cells": [
  {
   "cell_type": "code",
   "execution_count": 1,
   "id": "27b85c9b-34fa-4dd5-8946-03ea73b66d2e",
   "metadata": {},
   "outputs": [],
   "source": [
    "import pandas as pd\n",
    "\n",
    "import warnings\n",
    "warnings.filterwarnings('ignore')"
   ]
  },
  {
   "cell_type": "code",
   "execution_count": 2,
   "id": "5bbba3c1-b51a-49d0-bc1f-66ad3d4c068e",
   "metadata": {},
   "outputs": [
    {
     "data": {
      "text/html": [
       "<div>\n",
       "<style scoped>\n",
       "    .dataframe tbody tr th:only-of-type {\n",
       "        vertical-align: middle;\n",
       "    }\n",
       "\n",
       "    .dataframe tbody tr th {\n",
       "        vertical-align: top;\n",
       "    }\n",
       "\n",
       "    .dataframe thead th {\n",
       "        text-align: right;\n",
       "    }\n",
       "</style>\n",
       "<table border=\"1\" class=\"dataframe\">\n",
       "  <thead>\n",
       "    <tr style=\"text-align: right;\">\n",
       "      <th></th>\n",
       "      <th>Image</th>\n",
       "      <th>Software</th>\n",
       "      <th>Output_Type</th>\n",
       "      <th>Num_Tunnels</th>\n",
       "      <th>Crown_T1</th>\n",
       "      <th>Crown_T2</th>\n",
       "      <th>Crown_T3</th>\n",
       "      <th>Crown_T4</th>\n",
       "      <th>Sidewall_Left_T1</th>\n",
       "      <th>Sidewall_Left_T2</th>\n",
       "      <th>Sidewall_Left_T3</th>\n",
       "      <th>Sidewall_Left_T4</th>\n",
       "      <th>Sidewall_Right_T1</th>\n",
       "      <th>Sidewall_Right_T2</th>\n",
       "      <th>Sidewall_Right_T3</th>\n",
       "      <th>Sidewall_Right_T4</th>\n",
       "      <th>Tunnel_Shape</th>\n",
       "    </tr>\n",
       "  </thead>\n",
       "  <tbody>\n",
       "    <tr>\n",
       "      <th>0</th>\n",
       "      <td>extracted-images\\02-150-520-PR-1695\\page_100_i...</td>\n",
       "      <td>FLAC2D</td>\n",
       "      <td>Model</td>\n",
       "      <td>2</td>\n",
       "      <td>NaN</td>\n",
       "      <td>NaN</td>\n",
       "      <td>NaN</td>\n",
       "      <td>NaN</td>\n",
       "      <td>NaN</td>\n",
       "      <td>NaN</td>\n",
       "      <td>NaN</td>\n",
       "      <td>NaN</td>\n",
       "      <td>NaN</td>\n",
       "      <td>NaN</td>\n",
       "      <td>NaN</td>\n",
       "      <td>NaN</td>\n",
       "      <td>Arch</td>\n",
       "    </tr>\n",
       "    <tr>\n",
       "      <th>1</th>\n",
       "      <td>extracted-images\\02-150-520-PR-1695\\page_101_i...</td>\n",
       "      <td>FLAC2D</td>\n",
       "      <td>Vertical Displacement</td>\n",
       "      <td>2</td>\n",
       "      <td>9.0</td>\n",
       "      <td>9.0</td>\n",
       "      <td>NaN</td>\n",
       "      <td>NaN</td>\n",
       "      <td>-1.0</td>\n",
       "      <td>-1.0</td>\n",
       "      <td>NaN</td>\n",
       "      <td>NaN</td>\n",
       "      <td>1.0</td>\n",
       "      <td>1.0</td>\n",
       "      <td>NaN</td>\n",
       "      <td>NaN</td>\n",
       "      <td>Arch</td>\n",
       "    </tr>\n",
       "  </tbody>\n",
       "</table>\n",
       "</div>"
      ],
      "text/plain": [
       "                                               Image Software  \\\n",
       "0  extracted-images\\02-150-520-PR-1695\\page_100_i...   FLAC2D   \n",
       "1  extracted-images\\02-150-520-PR-1695\\page_101_i...   FLAC2D   \n",
       "\n",
       "             Output_Type  Num_Tunnels  Crown_T1  Crown_T2  Crown_T3  Crown_T4  \\\n",
       "0                  Model            2       NaN       NaN       NaN       NaN   \n",
       "1  Vertical Displacement            2       9.0       9.0       NaN       NaN   \n",
       "\n",
       "   Sidewall_Left_T1  Sidewall_Left_T2  Sidewall_Left_T3  Sidewall_Left_T4  \\\n",
       "0               NaN               NaN               NaN               NaN   \n",
       "1              -1.0              -1.0               NaN               NaN   \n",
       "\n",
       "   Sidewall_Right_T1  Sidewall_Right_T2  Sidewall_Right_T3  Sidewall_Right_T4  \\\n",
       "0                NaN                NaN                NaN                NaN   \n",
       "1                1.0                1.0                NaN                NaN   \n",
       "\n",
       "  Tunnel_Shape  \n",
       "0         Arch  \n",
       "1         Arch  "
      ]
     },
     "execution_count": 2,
     "metadata": {},
     "output_type": "execute_result"
    }
   ],
   "source": [
    "df = pd.read_csv(\"manual_labels.csv\")\n",
    "df.head()"
   ]
  },
  {
   "cell_type": "code",
   "execution_count": null,
   "id": "e73cc1cc-dedf-44b9-b1b4-6540d9ee7b96",
   "metadata": {},
   "outputs": [],
   "source": []
  }
 ],
 "metadata": {
  "kernelspec": {
   "display_name": "Python 3 (ipykernel)",
   "language": "python",
   "name": "python3"
  },
  "language_info": {
   "codemirror_mode": {
    "name": "ipython",
    "version": 3
   },
   "file_extension": ".py",
   "mimetype": "text/x-python",
   "name": "python",
   "nbconvert_exporter": "python",
   "pygments_lexer": "ipython3",
   "version": "3.10.0"
  }
 },
 "nbformat": 4,
 "nbformat_minor": 5
}
